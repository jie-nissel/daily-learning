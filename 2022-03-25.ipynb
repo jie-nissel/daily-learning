{
 "cells": [
  {
   "cell_type": "markdown",
   "metadata": {},
   "source": [
    "## Topic 1: \n",
    "Shared by Teammate: Add this single word to make your Pandas apply faster; Easy to implement Parallelization\n",
    "\n",
    "Reference: https://towardsdatascience.com/add-this-single-word-to-make-your-pandas-apply-faster-90ee2fffe9e8"
   ]
  },
  {
   "cell_type": "code",
   "execution_count": 1,
   "metadata": {},
   "outputs": [],
   "source": [
    "import pandas as pd"
   ]
  },
  {
   "cell_type": "code",
   "execution_count": null,
   "metadata": {},
   "outputs": [],
   "source": [
    "# from copilot function, get the dataframe of the copilot data, amazing function ;)\n",
    "def get_data():\n",
    "    df = pd.read_csv('data/data.csv')\n",
    "    return df"
   ]
  },
  {
   "cell_type": "markdown",
   "metadata": {},
   "source": [
    "<span style=\"color:Pink\">“Magic word” — Swifter!!</span>\n",
    "\n",
    "Swifter chooses the best way to implement the apply possible for your function by either 1) vectorizing your function or 2) using Dask in the backend to parallelize your function or 3) by maybe using simple pandas apply if the dataset is small.\n",
    "\n",
    "<span style=\"color:Orange\">Smart!!</span>"
   ]
  },
  {
   "cell_type": "markdown",
   "metadata": {},
   "source": []
  }
 ],
 "metadata": {
  "interpreter": {
   "hash": "0adcc2737ebf6a4a119f135174df96668767fca1ef1112612db5ecadf2b6d608"
  },
  "kernelspec": {
   "display_name": "Python 3.8.5 64-bit",
   "language": "python",
   "name": "python3"
  },
  "language_info": {
   "codemirror_mode": {
    "name": "ipython",
    "version": 3
   },
   "file_extension": ".py",
   "mimetype": "text/x-python",
   "name": "python",
   "nbconvert_exporter": "python",
   "pygments_lexer": "ipython3",
   "version": "3.8.5"
  },
  "orig_nbformat": 4
 },
 "nbformat": 4,
 "nbformat_minor": 2
}
