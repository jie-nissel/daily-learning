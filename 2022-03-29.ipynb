{
 "cells": [
  {
   "cell_type": "markdown",
   "metadata": {},
   "source": [
    "## Topic 1: Chatbot Python Open Source "
   ]
  },
  {
   "cell_type": "markdown",
   "metadata": {},
   "source": [
    "\n",
    "1. Chatterbot"
   ]
  },
  {
   "cell_type": "code",
   "execution_count": 1,
   "metadata": {},
   "outputs": [
    {
     "name": "stdout",
     "output_type": "stream",
     "text": [
      "3.7.9 (v3.7.9:13c94747c7, Aug 15 2020, 01:31:08) \n",
      "[Clang 6.0 (clang-600.0.57)]\n"
     ]
    }
   ],
   "source": [
    "# get python version\n",
    "import sys  \n",
    "print(sys.version)"
   ]
  },
  {
   "cell_type": "code",
   "execution_count": 2,
   "metadata": {},
   "outputs": [
    {
     "name": "stdout",
     "output_type": "stream",
     "text": [
      "\n",
      "    A conversational dialog chat bot.\n",
      "    \n",
      "{'__module__': 'chatterbot.chatterbot', '__doc__': '\\n    A conversational dialog chat bot.\\n    ', '__init__': <function ChatBot.__init__ at 0x7fc911d60f80>, 'initialize': <function ChatBot.initialize at 0x7fc911cef710>, 'get_response': <function ChatBot.get_response at 0x7fc911d78950>, 'generate_response': <function ChatBot.generate_response at 0x7fc911d800e0>, 'learn_response': <function ChatBot.learn_response at 0x7fc911d80050>, 'set_trainer': <function ChatBot.set_trainer at 0x7fc911d803b0>, 'train': <property object at 0x7fc911c1ce90>, '__dict__': <attribute '__dict__' of 'ChatBot' objects>, '__weakref__': <attribute '__weakref__' of 'ChatBot' objects>}\n"
     ]
    }
   ],
   "source": [
    "# Make sure you install chatterbot\n",
    "from chatterbot import ChatBot\n",
    "from chatterbot.trainers import ListTrainer\n",
    "print(ChatBot.__doc__)\n",
    "print(ChatBot.__dict__)"
   ]
  },
  {
   "cell_type": "code",
   "execution_count": 3,
   "metadata": {},
   "outputs": [],
   "source": [
    "mybot = ChatBot(\"My Bot\")"
   ]
  },
  {
   "cell_type": "code",
   "execution_count": 4,
   "metadata": {},
   "outputs": [
    {
     "name": "stdout",
     "output_type": "stream",
     "text": [
      "Start Training the bot----------------------------------------------------\n",
      "List Trainer: [#######             ] 33%"
     ]
    },
    {
     "ename": "AttributeError",
     "evalue": "'ChatBot' object has no attribute 'find'",
     "output_type": "error",
     "traceback": [
      "\u001b[0;31m---------------------------------------------------------------------------\u001b[0m",
      "\u001b[0;31mAttributeError\u001b[0m                            Traceback (most recent call last)",
      "\u001b[0;32m/var/folders/j6/m2k13z394mq114pzdq0bhsjw0000gq/T/ipykernel_37608/783016352.py\u001b[0m in \u001b[0;36m<module>\u001b[0;34m\u001b[0m\n\u001b[1;32m     15\u001b[0m     \u001b[0;34m\"Hi, what can I help you?\"\u001b[0m\u001b[0;34m,\u001b[0m\u001b[0;34m\u001b[0m\u001b[0;34m\u001b[0m\u001b[0m\n\u001b[1;32m     16\u001b[0m     \u001b[0;34m\"Sure, I'd like to find the power drill in the store\"\u001b[0m\u001b[0;34m,\u001b[0m\u001b[0;34m\u001b[0m\u001b[0;34m\u001b[0m\u001b[0m\n\u001b[0;32m---> 17\u001b[0;31m     \u001b[0;34m\"The power drill is at C29\"\u001b[0m\u001b[0;34m\u001b[0m\u001b[0;34m\u001b[0m\u001b[0m\n\u001b[0m\u001b[1;32m     18\u001b[0m ])\n",
      "\u001b[0;32m~/Library/Python/3.7/lib/python/site-packages/chatterbot/trainers.py\u001b[0m in \u001b[0;36mtrain\u001b[0;34m(self, conversation)\u001b[0m\n\u001b[1;32m    108\u001b[0m                 )\n\u001b[1;32m    109\u001b[0m \u001b[0;34m\u001b[0m\u001b[0m\n\u001b[0;32m--> 110\u001b[0;31m             \u001b[0mstatement\u001b[0m \u001b[0;34m=\u001b[0m \u001b[0mself\u001b[0m\u001b[0;34m.\u001b[0m\u001b[0mget_or_create\u001b[0m\u001b[0;34m(\u001b[0m\u001b[0mtext\u001b[0m\u001b[0;34m)\u001b[0m\u001b[0;34m\u001b[0m\u001b[0;34m\u001b[0m\u001b[0m\n\u001b[0m\u001b[1;32m    111\u001b[0m \u001b[0;34m\u001b[0m\u001b[0m\n\u001b[1;32m    112\u001b[0m             \u001b[0;32mif\u001b[0m \u001b[0mprevious_statement_text\u001b[0m\u001b[0;34m:\u001b[0m\u001b[0;34m\u001b[0m\u001b[0;34m\u001b[0m\u001b[0m\n",
      "\u001b[0;32m~/Library/Python/3.7/lib/python/site-packages/chatterbot/trainers.py\u001b[0m in \u001b[0;36mget_or_create\u001b[0;34m(self, statement_text)\u001b[0m\n\u001b[1;32m     46\u001b[0m         )\n\u001b[1;32m     47\u001b[0m \u001b[0;34m\u001b[0m\u001b[0m\n\u001b[0;32m---> 48\u001b[0;31m         \u001b[0mstatement\u001b[0m \u001b[0;34m=\u001b[0m \u001b[0mself\u001b[0m\u001b[0;34m.\u001b[0m\u001b[0mstorage\u001b[0m\u001b[0;34m.\u001b[0m\u001b[0mfind\u001b[0m\u001b[0;34m(\u001b[0m\u001b[0mtemp_statement\u001b[0m\u001b[0;34m.\u001b[0m\u001b[0mtext\u001b[0m\u001b[0;34m)\u001b[0m\u001b[0;34m\u001b[0m\u001b[0;34m\u001b[0m\u001b[0m\n\u001b[0m\u001b[1;32m     49\u001b[0m \u001b[0;34m\u001b[0m\u001b[0m\n\u001b[1;32m     50\u001b[0m         \u001b[0;32mif\u001b[0m \u001b[0;32mnot\u001b[0m \u001b[0mstatement\u001b[0m\u001b[0;34m:\u001b[0m\u001b[0;34m\u001b[0m\u001b[0;34m\u001b[0m\u001b[0m\n",
      "\u001b[0;31mAttributeError\u001b[0m: 'ChatBot' object has no attribute 'find'"
     ]
    }
   ],
   "source": [
    "## Create a new chat bot named Wall-E\n",
    "# bot = ChatBot('charlie') # the bot is named \"Wall-E\" from the movie \n",
    "# mybot = ChatBot(\n",
    "#     'charlie',\n",
    "#     storage_adapter='chatterbot.storage.SQLStorageAdapter', # The SQLStorageAdapter is ChatterBot’s default adapter.You can also use MongoDB\n",
    "#     logic_adapters=[\n",
    "#         'chatterbot.logic.MathematicalEvaluation',\n",
    "#         'chatterbot.logic.TimeLogicAdapter'\n",
    "#     ],\n",
    "#     database_uri='sqlite:///database.sqlite3'\n",
    "# )\n",
    "print(\"Start Training the bot----------------------------------------------------\")\n",
    "trainer1 = ListTrainer(mybot)\n",
    "trainer1.train([\n",
    "    \"Hi, what can I help you?\",\n",
    "    \"Sure, I'd like to find the power drill in the store\",\n",
    "    \"The power drill is at C29\"\n",
    "])"
   ]
  },
  {
   "cell_type": "code",
   "execution_count": null,
   "metadata": {},
   "outputs": [],
   "source": [
    "# while True:\n",
    "#     try:\n",
    "#         bot_input = bot.get_response(input())\n",
    "#         print(bot_input)\n",
    "\n",
    "#     except(KeyboardInterrupt, EOFError, SystemExit):\n",
    "#         break\n",
    "# Get a response to the input text 'I would like to book a flight.'\n",
    "response = bot.get_response('I would like to find a power drill')\n",
    "print(response)"
   ]
  },
  {
   "cell_type": "markdown",
   "metadata": {},
   "source": []
  }
 ],
 "metadata": {
  "interpreter": {
   "hash": "0adcc2737ebf6a4a119f135174df96668767fca1ef1112612db5ecadf2b6d608"
  },
  "kernelspec": {
   "display_name": "Python 3.8.5 64-bit",
   "language": "python",
   "name": "python3"
  },
  "language_info": {
   "codemirror_mode": {
    "name": "ipython",
    "version": 3
   },
   "file_extension": ".py",
   "mimetype": "text/x-python",
   "name": "python",
   "nbconvert_exporter": "python",
   "pygments_lexer": "ipython3",
   "version": "3.7.9"
  },
  "orig_nbformat": 4
 },
 "nbformat": 4,
 "nbformat_minor": 2
}
